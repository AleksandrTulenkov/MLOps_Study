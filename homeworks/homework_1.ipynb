{
 "cells": [
  {
   "cell_type": "code",
   "execution_count": 47,
   "id": "d9ecf8ae",
   "metadata": {},
   "outputs": [],
   "source": [
    "import pandas as pd\n",
    "pd.options.mode.chained_assignment = None"
   ]
  },
  {
   "cell_type": "code",
   "execution_count": 48,
   "id": "44a982b0",
   "metadata": {},
   "outputs": [],
   "source": [
    "from sklearn.feature_extraction import DictVectorizer\n",
    "from sklearn.linear_model import LinearRegression\n",
    "from sklearn.linear_model import Lasso\n",
    "from sklearn.linear_model import Ridge\n",
    "\n",
    "from sklearn.metrics import mean_squared_error"
   ]
  },
  {
   "cell_type": "code",
   "execution_count": 49,
   "id": "16591e26",
   "metadata": {},
   "outputs": [],
   "source": [
    "train_df = pd.read_parquet('./data/fhv_tripdata_2021-01.parquet')\n",
    "test_df = pd.read_parquet('./data/fhv_tripdata_2021-02.parquet')"
   ]
  },
  {
   "cell_type": "markdown",
   "id": "fe1d8c07",
   "metadata": {},
   "source": [
    "### Question 1"
   ]
  },
  {
   "cell_type": "code",
   "execution_count": 50,
   "id": "1b83b41f",
   "metadata": {},
   "outputs": [
    {
     "name": "stdout",
     "output_type": "stream",
     "text": [
      "Answer: 1154112\n"
     ]
    }
   ],
   "source": [
    "print(f\"Answer: {len(train_df)}\")"
   ]
  },
  {
   "cell_type": "code",
   "execution_count": 57,
   "id": "da0362b0",
   "metadata": {},
   "outputs": [],
   "source": [
    "def _transform(df):\n",
    "    answers_dict = {}\n",
    "    init_size_df = len(df)\n",
    "    df['duration'] = df.dropOff_datetime - df.pickup_datetime\n",
    "    df.duration = df.duration.apply(lambda td: td.total_seconds() / 60)\n",
    "    answers_dict['Q2 avg_duration'] = df['duration'].mean()\n",
    "    df = df[(df.duration >= 1) & (df.duration <= 60)]\n",
    "    df.PUlocationID.fillna(-1, inplace=True)\n",
    "    df.DOlocationID.fillna(-1, inplace=True)\n",
    "    answers_dict['Q3 fraction_miss'] = len(df[df.PUlocationID==-1])/len(df)*100\n",
    "    categorical = ['PUlocationID', 'DOlocationID']\n",
    "    df[categorical] = df[categorical].astype(str)\n",
    "    dicts = df[categorical].to_dict(orient='records')\n",
    "    answers_dict['skipped_rows'] = init_size_df - len(df)\n",
    "    \n",
    "    return df, dicts, answers_dict"
   ]
  },
  {
   "cell_type": "code",
   "execution_count": 58,
   "id": "d989ab22",
   "metadata": {},
   "outputs": [],
   "source": [
    "train_df, train_dicts, answers = _transform(train_df)\n",
    "test_df, test_dicts, _ = _transform(test_df)"
   ]
  },
  {
   "cell_type": "code",
   "execution_count": 59,
   "id": "a1bf0c7e",
   "metadata": {},
   "outputs": [
    {
     "name": "stdout",
     "output_type": "stream",
     "text": [
      "Q2 avg_duration - 19.1672240937939\n",
      "Q3 fraction_miss - 83.52732770722618\n",
      "skipped_rows - 44286\n"
     ]
    }
   ],
   "source": [
    "for q, ans in answers.items():\n",
    "    print(f\"{q} - {ans}\")"
   ]
  },
  {
   "cell_type": "code",
   "execution_count": 61,
   "id": "a1b7bf21",
   "metadata": {},
   "outputs": [],
   "source": [
    "dv = DictVectorizer()\n",
    "\n",
    "X_train = dv.fit_transform(train_dicts)\n",
    "X_test = dv.transform(test_dicts)\n",
    "\n",
    "target = 'duration'\n",
    "y_train = train_df[target].values\n",
    "y_test = test_df[target].values"
   ]
  },
  {
   "cell_type": "markdown",
   "id": "134d50bd",
   "metadata": {},
   "source": [
    "### Question 4"
   ]
  },
  {
   "cell_type": "code",
   "execution_count": 62,
   "id": "3d373660",
   "metadata": {},
   "outputs": [
    {
     "name": "stdout",
     "output_type": "stream",
     "text": [
      "525\n"
     ]
    }
   ],
   "source": [
    "print(X_train.shape[1])"
   ]
  },
  {
   "cell_type": "code",
   "execution_count": 65,
   "id": "ad51a59a",
   "metadata": {},
   "outputs": [],
   "source": [
    "lr = LinearRegression()\n",
    "lr.fit(X_train, y_train)\n",
    "\n",
    "y_pred_train = lr.predict(X_train)"
   ]
  },
  {
   "cell_type": "markdown",
   "id": "8af53d30",
   "metadata": {},
   "source": [
    "### Question 5"
   ]
  },
  {
   "cell_type": "code",
   "execution_count": 66,
   "id": "6bbf89ad",
   "metadata": {},
   "outputs": [
    {
     "name": "stdout",
     "output_type": "stream",
     "text": [
      "10.528519107223724\n"
     ]
    }
   ],
   "source": [
    "print(mean_squared_error(y_train, y_pred_train, squared=False))"
   ]
  },
  {
   "cell_type": "markdown",
   "id": "b7edf995",
   "metadata": {},
   "source": [
    "### Question 6"
   ]
  },
  {
   "cell_type": "code",
   "execution_count": 67,
   "id": "167eb084",
   "metadata": {},
   "outputs": [
    {
     "name": "stdout",
     "output_type": "stream",
     "text": [
      "11.01428321783417\n"
     ]
    }
   ],
   "source": [
    "y_pred_test = lr.predict(X_test)\n",
    "print(mean_squared_error(y_test, y_pred_test, squared=False))"
   ]
  }
 ],
 "metadata": {
  "kernelspec": {
   "display_name": "Python 3",
   "language": "python",
   "name": "python3"
  },
  "language_info": {
   "codemirror_mode": {
    "name": "ipython",
    "version": 3
   },
   "file_extension": ".py",
   "mimetype": "text/x-python",
   "name": "python",
   "nbconvert_exporter": "python",
   "pygments_lexer": "ipython3",
   "version": "3.8.8"
  }
 },
 "nbformat": 4,
 "nbformat_minor": 5
}
